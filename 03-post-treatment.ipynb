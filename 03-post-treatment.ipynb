{
 "cells": [
  {
   "cell_type": "markdown",
   "id": "0afbf09b-76ba-457f-adac-4308109ffa11",
   "metadata": {},
   "source": [
    "<p style=\"font-family: Times New Roman;font-size:22px;color:navy\"><b>3. Second Time Period (After policy intervention)</b></p>"
   ]
  },
  {
   "cell_type": "markdown",
   "id": "abec24d2-6cd7-41b2-bedd-1268e5b14741",
   "metadata": {
    "tags": []
   },
   "source": [
    "<p style=\"font-family: Times New Roman;font-size:20px;color:navy\"><b>3.1. Import the necessary libraries.</b></p>"
   ]
  },
  {
   "cell_type": "code",
   "execution_count": 2,
   "id": "f12d3eb3-de0b-4b03-bf9d-0c7a088663d4",
   "metadata": {
    "tags": []
   },
   "outputs": [],
   "source": [
    "# For network analysis\n",
    "import networkx as nx\n",
    "import community as pylv #python-louvain\n",
    "\n",
    "# For plotting graphs\n",
    "import matplotlib\n",
    "import matplotlib.pyplot as plt\n",
    "import matplotlib.colors as mcolors\n",
    "import matplotlib.lines as mlines\n",
    "import matplotlib.patches as mpatches\n",
    "\n",
    "# For importing files, handling dataframes and functions\n",
    "import pandas as pd\n",
    "import numpy as np\n",
    "import math\n",
    "import random"
   ]
  },
  {
   "cell_type": "markdown",
   "id": "b0ec2c42-27d7-4882-be4c-369ccf78cdd4",
   "metadata": {},
   "source": [
    "<p style=\"font-family: Times New Roman;font-size:20px;color:navy\"><b>3.2. Create the graph</b></p>"
   ]
  },
  {
   "cell_type": "code",
   "execution_count": 3,
   "id": "80a06582-c46e-4f67-9c5c-0bb52e62443f",
   "metadata": {
    "tags": []
   },
   "outputs": [
    {
     "name": "stdout",
     "output_type": "stream",
     "text": [
      "Graph with 347 nodes and 1440 edges.\n"
     ]
    }
   ],
   "source": [
    "# Load the node file into a pandas DataFrame\n",
    "nodes_df = pd.read_csv(\"nodes_cluster_G.csv\", delimiter=';', header=0)\n",
    "\n",
    "# Load the edge file into a pandas DataFrame\n",
    "edges_df = pd.read_csv('edges_cluster_G.csv', delimiter=';', header=0)\n",
    "\n",
    "#Create a NetworkX graph\n",
    "POST = nx.Graph()\n",
    "\n",
    "# Filter the edges to keep only pre_link\n",
    "post_edges_df = edges_df[edges_df['post_link'] == 1]\n",
    "\n",
    "# Extract the unique source and target nodes from the filtered edges\n",
    "post_nodes = pd.concat([post_edges_df['source'], post_edges_df['target']]).unique()\n",
    "\n",
    "# Add nodes to the graph based on the unique nodes\n",
    "for id in post_nodes:\n",
    "    node_data = nodes_df[nodes_df['id'] == id].iloc[0]\n",
    "    POST.add_node(id, coord=node_data['coord'], core=node_data['core'], gender=node_data['gender'])\n",
    "\n",
    "# Add edges to the graph based on the filtered edges\n",
    "for _, row in post_edges_df.iterrows():\n",
    "    POST.add_edge(row['source'], row['target'])\n",
    "\n",
    "# Print graph summary\n",
    "print('Graph with', POST.number_of_nodes(), 'nodes and', POST.number_of_edges(), 'edges.')"
   ]
  },
  {
   "cell_type": "markdown",
   "id": "4a32298f-4d2f-481f-9196-c2578c40437c",
   "metadata": {
    "tags": []
   },
   "source": [
    "<p style=\"font-family: Times New Roman;font-size:20px;color:navy\"><b>3.3. Basic graph information with NetworkX</b></p>"
   ]
  },
  {
   "cell_type": "markdown",
   "id": "218693e1-c086-4e0a-86c0-56a740fb515d",
   "metadata": {},
   "source": [
    "<p style=\"font-family: Times New Roman;font-size:20px;color:navy\"><b>3.3.1. Network connectivity</b></p>"
   ]
  },
  {
   "cell_type": "code",
   "execution_count": 6,
   "id": "32433923-6cbc-45d8-bc78-46cddc518206",
   "metadata": {
    "tags": []
   },
   "outputs": [
    {
     "name": "stdout",
     "output_type": "stream",
     "text": [
      "Is the graph connected? False\n",
      "Number of connected components: 7\n"
     ]
    }
   ],
   "source": [
    "# Check if the graph is connected or disconnected\n",
    "print(\"Is the graph connected?\", nx.is_connected(POST))\n",
    "\n",
    "# Count the number of connected components\n",
    "print(\"Number of connected components:\", len(list(nx.connected_components(POST))))"
   ]
  },
  {
   "cell_type": "markdown",
   "id": "f4e7beb5-5a70-4aa6-b5bd-a13e07a031e5",
   "metadata": {},
   "source": [
    "<p style=\"font-family: Times New Roman;font-size:20px;color:navy\"><b>3.3.2. Network metrics</b></p>"
   ]
  },
  {
   "cell_type": "code",
   "execution_count": 7,
   "id": "9969cffb-3023-4455-af71-5abe2eab22dc",
   "metadata": {
    "tags": []
   },
   "outputs": [
    {
     "name": "stdout",
     "output_type": "stream",
     "text": [
      "Average degree: 8.29971181556196\n",
      "Average local clustering: 0.5083072950778138\n",
      "Transitivity: 0.46194379391100704\n"
     ]
    }
   ],
   "source": [
    "avg_degree = sum([degree for node, degree in POST.degree()])/POST.number_of_nodes()\n",
    "print(\"Average degree:\", avg_degree)\n",
    "print(\"Average local clustering:\", nx.average_clustering(POST))\n",
    "print(\"Transitivity:\", nx.transitivity(POST))"
   ]
  },
  {
   "cell_type": "code",
   "execution_count": null,
   "id": "345b1beb-11a8-48ca-9850-d4a3c58f69f0",
   "metadata": {},
   "outputs": [],
   "source": []
  }
 ],
 "metadata": {
  "kernelspec": {
   "display_name": "Python 3 (ipykernel)",
   "language": "python",
   "name": "python3"
  },
  "language_info": {
   "codemirror_mode": {
    "name": "ipython",
    "version": 3
   },
   "file_extension": ".py",
   "mimetype": "text/x-python",
   "name": "python",
   "nbconvert_exporter": "python",
   "pygments_lexer": "ipython3",
   "version": "3.11.5"
  }
 },
 "nbformat": 4,
 "nbformat_minor": 5
}
