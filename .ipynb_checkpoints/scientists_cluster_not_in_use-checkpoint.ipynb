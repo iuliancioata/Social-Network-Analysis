{
 "cells": [
  {
   "cell_type": "code",
   "execution_count": null,
   "id": "a97e146b",
   "metadata": {},
   "outputs": [],
   "source": [
    "n = 100 # Number of nodes\n",
    "mean_degree = 11 # Mean degree\n",
    "\n",
    "# Create the Watts-Strogatz graph\n",
    "WS = nx.connected_watts_strogatz_graph(n=n, k=mean_degree, p=0.05)\n",
    "\n",
    "# Create a random exponential degree distribution sequence\n",
    "degree_sequence = np.random.exponential(scale=0.5, size=n)\n",
    "degree_sequence = np.round(degree_sequence * mean_degree / np.mean(degree_sequence)).astype(int)\n",
    "\n",
    "# Assign the degree sequence to the nodes in the graph\n",
    "for i, (node, degree) in enumerate(zip(WS.nodes(), degree_sequence)):\n",
    "    WS.nodes[node]['degree'] = degree\n",
    "\n",
    "# Draw the graph\n",
    "pos = nx.kamada_kawai_layout(WS)\n",
    "nx.draw(WS, pos=pos, with_labels=True)\n",
    "plt.title('Watts-Strogatz small-world network', fontsize=50)\n",
    "plt.show()\n",
    "#plt.savefig('watts_strogatz.png')"
   ]
  },
  {
   "cell_type": "code",
   "execution_count": null,
   "id": "02f8a1d8",
   "metadata": {},
   "outputs": [],
   "source": [
    "# Compute degree and clustering coefficient for each node\n",
    "degree = dict(G.degree())\n",
    "clustering = nx.clustering(G)\n",
    "\n",
    "# Create a scatter plot of degree vs. clustering coefficient\n",
    "fig, ax = plt.subplots(figsize=(10, 5))\n",
    "\n",
    "# Set the marker_size(s), marker_color(c), and transparency of the markers\n",
    "ax.scatter(degree.values(), clustering.values(), s=100, c='royalblue', edgecolor='black', alpha=0.8)\n",
    "\n",
    "# Set the labels and title of the plot\n",
    "ax.set_xlabel('Degree')\n",
    "ax.set_ylabel('Clustering Coefficient')\n",
    "ax.set_title('Degree vs. Clustering Coefficient Scatter Plot')\n",
    "\n",
    "# Show the plot\n",
    "plt.show()\n",
    "#plt.savefig('degree_vs_clustering_coefficient.png')"
   ]
  }
 ],
 "metadata": {
  "kernelspec": {
   "display_name": "Python 3 (ipykernel)",
   "language": "python",
   "name": "python3"
  },
  "language_info": {
   "codemirror_mode": {
    "name": "ipython",
    "version": 3
   },
   "file_extension": ".py",
   "mimetype": "text/x-python",
   "name": "python",
   "nbconvert_exporter": "python",
   "pygments_lexer": "ipython3",
   "version": "3.9.16"
  }
 },
 "nbformat": 4,
 "nbformat_minor": 5
}
