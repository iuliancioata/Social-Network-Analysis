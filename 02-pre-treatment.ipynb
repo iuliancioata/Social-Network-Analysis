{
 "cells": [
  {
   "cell_type": "markdown",
   "id": "e1b30929-1ca0-4206-9f7f-1cb31be03dbd",
   "metadata": {},
   "source": [
    "<p style=\"font-family: Times New Roman;font-size:22px;color:navy\"><b>2. First Time Period (Before policy intervention)</b></p>"
   ]
  },
  {
   "cell_type": "markdown",
   "id": "2c2dc407-05e1-4aab-ae6a-d5f380d86c46",
   "metadata": {
    "tags": []
   },
   "source": [
    "<p style=\"font-family: Times New Roman;font-size:20px;color:navy\"><b>2.1. Import the necessary libraries.</b></p>"
   ]
  },
  {
   "cell_type": "code",
   "execution_count": 5,
   "id": "b92fcd2d-5f08-43d2-af11-b1c37d4649cd",
   "metadata": {
    "tags": []
   },
   "outputs": [],
   "source": [
    "# For network analysis\n",
    "import networkx as nx\n",
    "import community as pylv #python-louvain\n",
    "\n",
    "# For plotting graphs\n",
    "import matplotlib\n",
    "import matplotlib.pyplot as plt\n",
    "import matplotlib.colors as mcolors\n",
    "import matplotlib.lines as mlines\n",
    "import matplotlib.patches as mpatches\n",
    "\n",
    "# For importing files, handling dataframes and functions\n",
    "import pandas as pd\n",
    "import numpy as np\n",
    "import math\n",
    "import random"
   ]
  },
  {
   "cell_type": "markdown",
   "id": "832f2535-29b1-4536-8496-25afef8a22e8",
   "metadata": {},
   "source": [
    "<p style=\"font-family: Times New Roman;font-size:20px;color:navy\"><b>2.2. Create the graph</b></p>"
   ]
  },
  {
   "cell_type": "code",
   "execution_count": 22,
   "id": "dbb4d40e-51c0-4dcc-85be-3e5372021708",
   "metadata": {
    "tags": []
   },
   "outputs": [
    {
     "name": "stdout",
     "output_type": "stream",
     "text": [
      "Graph with 318 nodes and 1251 edges.\n"
     ]
    }
   ],
   "source": [
    "# Load the node file into a pandas DataFrame\n",
    "nodes_df = pd.read_csv(\"nodes_cluster_G.csv\", delimiter=';', header=0)\n",
    "\n",
    "# Load the edge file into a pandas DataFrame\n",
    "edges_df = pd.read_csv('edges_cluster_G.csv', delimiter=';', header=0)\n",
    "\n",
    "#Create a NetworkX graph\n",
    "PRE = nx.Graph()\n",
    "\n",
    "# Filter the edges to keep only pre_link\n",
    "pre_edges_df = edges_df[edges_df['pre_link'] == 1]\n",
    "\n",
    "# Extract the unique source and target nodes from the filtered edges\n",
    "pre_nodes = pd.concat([pre_edges_df['source'], pre_edges_df['target']]).unique()\n",
    "\n",
    "# Add nodes to the graph based on the unique nodes\n",
    "for id in pre_nodes:\n",
    "    node_data = nodes_df[nodes_df['id'] == id].iloc[0]\n",
    "    PRE.add_node(id, coord=node_data['coord'], core=node_data['core'], gender=node_data['gender'])\n",
    "\n",
    "# Add edges to the graph based on the filtered edges\n",
    "for _, row in pre_edges_df.iterrows():\n",
    "    PRE.add_edge(row['source'], row['target'])\n",
    "\n",
    "# Print graph summary\n",
    "print('Graph with', PRE.number_of_nodes(), 'nodes and', PRE.number_of_edges(), 'edges.')"
   ]
  },
  {
   "cell_type": "markdown",
   "id": "a9a5998c-a98d-4755-b868-3ad00f154d3c",
   "metadata": {
    "tags": []
   },
   "source": [
    "<p style=\"font-family: Times New Roman;font-size:20px;color:navy\"><b>2.3. Basic graph information with NetworkX</b></p>"
   ]
  },
  {
   "cell_type": "code",
   "execution_count": 24,
   "id": "4290392c-b5fb-462d-8a9f-8c5d9890a420",
   "metadata": {
    "tags": []
   },
   "outputs": [
    {
     "name": "stdout",
     "output_type": "stream",
     "text": [
      "Is the graph connected? False\n",
      "Number of connected components: 7\n"
     ]
    }
   ],
   "source": [
    "# Check if the graph is connected or disconnected\n",
    "print(\"Is the graph connected?\", nx.is_connected(PRE))\n",
    "\n",
    "# Count the number of connected components\n",
    "print(\"Number of connected components:\", len(list(nx.connected_components(PRE))))"
   ]
  },
  {
   "cell_type": "code",
   "execution_count": 27,
   "id": "fb38ce08-b7a4-41e4-8011-476555f06564",
   "metadata": {
    "tags": []
   },
   "outputs": [
    {
     "name": "stdout",
     "output_type": "stream",
     "text": [
      "Average degree: 7.867924528301887\n",
      "Average local clustering: 0.4672135371108454\n",
      "Transitivity: 0.43520010311271506\n"
     ]
    }
   ],
   "source": [
    "avg_degree = sum([degree for node, degree in PRE.degree()])/PRE.number_of_nodes()\n",
    "print(\"Average degree:\", avg_degree)\n",
    "print(\"Average local clustering:\", nx.average_clustering(PRE))\n",
    "print(\"Transitivity:\", nx.transitivity(PRE))"
   ]
  },
  {
   "cell_type": "code",
   "execution_count": null,
   "id": "8125fb5b-e17f-4903-b92e-54f6dd3fd359",
   "metadata": {},
   "outputs": [],
   "source": []
  }
 ],
 "metadata": {
  "kernelspec": {
   "display_name": "Python 3 (ipykernel)",
   "language": "python",
   "name": "python3"
  },
  "language_info": {
   "codemirror_mode": {
    "name": "ipython",
    "version": 3
   },
   "file_extension": ".py",
   "mimetype": "text/x-python",
   "name": "python",
   "nbconvert_exporter": "python",
   "pygments_lexer": "ipython3",
   "version": "3.11.5"
  }
 },
 "nbformat": 4,
 "nbformat_minor": 5
}
